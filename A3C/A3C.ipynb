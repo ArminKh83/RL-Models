{
 "cells": [
  {
   "cell_type": "code",
   "execution_count": 9,
   "id": "initial_id",
   "metadata": {
    "collapsed": true,
    "ExecuteTime": {
     "end_time": "2024-07-22T02:21:16.290767Z",
     "start_time": "2024-07-22T02:21:16.286537Z"
    }
   },
   "outputs": [],
   "source": [
    "import gym\n",
    "import numpy\n",
    "import torch\n",
    "import torch.nn as nn\n",
    "import torch.nn.functional as F\n",
    "import torch.multiprocessing as mp\n",
    "from torch.distributions import Categorical\n",
    "\n",
    "from collections import namedtuple\n"
   ]
  },
  {
   "cell_type": "code",
   "outputs": [
    {
     "ename": "NameError",
     "evalue": "name 'T' is not defined",
     "output_type": "error",
     "traceback": [
      "\u001B[0;31m---------------------------------------------------------------------------\u001B[0m",
      "\u001B[0;31mNameError\u001B[0m                                 Traceback (most recent call last)",
      "Cell \u001B[0;32mIn[10], line 1\u001B[0m\n\u001B[0;32m----> 1\u001B[0m \u001B[38;5;28;01mclass\u001B[39;00m \u001B[38;5;21;01mSharedAdam\u001B[39;00m(T\u001B[38;5;241m.\u001B[39moptim\u001B[38;5;241m.\u001B[39mAdam):\n\u001B[1;32m      2\u001B[0m     \u001B[38;5;28;01mdef\u001B[39;00m \u001B[38;5;21m__init__\u001B[39m(\u001B[38;5;28mself\u001B[39m, params, lr\u001B[38;5;241m=\u001B[39m\u001B[38;5;241m1e-3\u001B[39m, betas\u001B[38;5;241m=\u001B[39m(\u001B[38;5;241m0.9\u001B[39m, \u001B[38;5;241m0.99\u001B[39m), eps\u001B[38;5;241m=\u001B[39m\u001B[38;5;241m1e-8\u001B[39m,\n\u001B[1;32m      3\u001B[0m                  weight_decay\u001B[38;5;241m=\u001B[39m\u001B[38;5;241m0\u001B[39m):\n\u001B[1;32m      4\u001B[0m         \u001B[38;5;28msuper\u001B[39m(SharedAdam, \u001B[38;5;28mself\u001B[39m)\u001B[38;5;241m.\u001B[39m\u001B[38;5;21m__init__\u001B[39m(params, lr\u001B[38;5;241m=\u001B[39mlr, betas\u001B[38;5;241m=\u001B[39mbetas, eps\u001B[38;5;241m=\u001B[39meps,\n\u001B[1;32m      5\u001B[0m                                          weight_decay\u001B[38;5;241m=\u001B[39mweight_decay)\n",
      "\u001B[0;31mNameError\u001B[0m: name 'T' is not defined"
     ]
    }
   ],
   "source": [
    "class SharedAdam(T.optim.Adam):\n",
    "    def __init__(self, params, lr=1e-3, betas=(0.9, 0.99), eps=1e-8,\n",
    "                 weight_decay=0):\n",
    "        super(SharedAdam, self).__init__(params, lr=lr, betas=betas, eps=eps,\n",
    "                                         weight_decay=weight_decay)\n",
    "\n",
    "        for group in self.param_groups:\n",
    "            for p in group['params']:\n",
    "                state = self.state[p]\n",
    "                state['step'] = T.tensor(0.0).share_memory_()\n",
    "                state['exp_avg'] = T.zeros_like(p.data).share_memory_()\n",
    "                state['exp_avg_sq'] = T.zeros_like(p.data).share_memory_()\n"
   ],
   "metadata": {
    "collapsed": false,
    "ExecuteTime": {
     "end_time": "2024-07-22T02:21:16.305039Z",
     "start_time": "2024-07-22T02:21:16.292593Z"
    }
   },
   "id": "48b5370659f331f",
   "execution_count": 10
  },
  {
   "cell_type": "code",
   "outputs": [],
   "source": [
    "class A3C_NET(nn.Module):\n",
    "    def __init__(self, input_dims, output_dims, fc1, fc2):\n",
    "        super(A3C_NET, self).__init__()\n",
    "        self.fc1 = nn.Linear(*input_dims, fc1)\n",
    "        self.fc2 = nn.Linear(fc1, fc2)\n",
    "        self.fc3 = nn.Linear(fc2, output_dims)\n",
    "\n",
    "    def forward(self, x):\n",
    "        x = F.leaky_relu(self.fc1(x))\n",
    "        x = F.leaky_relu(self.fc2(x))\n",
    "        x = F.leaky_relu(self.fc3(x))\n",
    "        return x\n"
   ],
   "metadata": {
    "collapsed": false,
    "ExecuteTime": {
     "end_time": "2024-07-22T02:21:16.305758Z",
     "start_time": "2024-07-22T02:21:16.305706Z"
    }
   },
   "id": "ecaa1f6c21b6a22",
   "execution_count": null
  },
  {
   "cell_type": "code",
   "outputs": [],
   "source": [
    "class ACTOR_CRITIC_AGENT:\n",
    "    def __init__(self, input_dims, n_actions, gamma=0.99):\n",
    "        super(ACTOR_CRITIC_AGENT, self).__init__()\n",
    "        self.gamma = gamma\n",
    "\n",
    "        self.actor = A3C_NET(input_dims, n_actions, 64, 128)\n",
    "        self.critic = A3C_NET(input_dims, 1, 64, 128)\n",
    "\n",
    "        self.rewards = []\n",
    "        self.states = []\n",
    "        self.actions = []\n",
    "\n",
    "    def push(self, state, action, reward):\n",
    "        self.rewards.append(reward)\n",
    "        self.actions.append(action)\n",
    "        self.states.append(state)\n",
    "\n",
    "    def reset_mem(self):\n",
    "        self.rewards.clear()\n",
    "        self.states.clear()\n",
    "        self.actions.clear()\n",
    "\n",
    "    def choose_action(self, state):\n",
    "        state = torch.tensor([state], dtype=torch.float)\n",
    "\n",
    "        actions = self.actor(state)\n",
    "        probs = F.softmax(actions, dim=1)\n",
    "\n",
    "        dist = Categorical(probs)\n",
    "        action = dist.sample().numpy()[0]\n",
    "\n",
    "        return action\n",
    "\n",
    "    def calc_returns(self, done):\n",
    "        states = torch.tensor(self.states, dtype=torch.float)\n",
    "        values = self.critic(states)\n",
    "\n",
    "        R = values[-1] * (1 - int(done))\n",
    "        returns = []\n",
    "\n",
    "        for reward in reversed(self.rewards):\n",
    "            R = R * self.gamma + reward\n",
    "            returns.append(R)\n",
    "        returns.reverse()\n",
    "\n",
    "        return torch.tensor(returns, dtype=torch.float)\n"
   ],
   "metadata": {
    "collapsed": false,
    "ExecuteTime": {
     "end_time": "2024-07-22T02:22:04.784833Z",
     "start_time": "2024-07-22T02:22:04.779158Z"
    }
   },
   "id": "415c0e26cb40be52",
   "execution_count": 14
  },
  {
   "cell_type": "code",
   "outputs": [],
   "source": [
    "class A3C_AGENT(mp.Process):\n",
    "    def __init__(self, global_actor_critic, optimizer, input_dims, n_actions,\n",
    "                 gamma, lr, name, global_ep_idx, env_id):\n",
    "        super(A3C_AGENT, self).__init__()\n",
    "        self.local_actor_critic = ACTOR_CRITIC_AGENT(input_dims, n_actions, gamma)\n",
    "        self.global_actor_critic = global_actor_critic\n",
    "        self.name = 'w%02i' % name\n",
    "        self.episode_idx = global_ep_idx\n",
    "        self.env = gym.make(env_id)\n",
    "        self.optimizer = optimizer\n",
    "\n",
    "    def run(self):\n",
    "        t_step = 1\n",
    "        while self.episode_idx.value < N_GAMES:\n",
    "            \n",
    "            done = False\n",
    "            observation = list(self.env.reset()[0])\n",
    "            score = 0\n",
    "            self.local_actor_critic.clear_memory()\n",
    "\n",
    "            while not done:\n",
    "                action = self.local_actor_critic.choose_action(observation)\n",
    "                observation_, reward, truncated, terminated, info = self.env.step(action)\n",
    "                score += reward\n",
    "\n",
    "                done = terminated or truncated\n",
    "\n",
    "                self.local_actor_critic.remember(observation, action, reward)\n",
    "\n",
    "                if t_step % T_MAX == 0 or done:\n",
    "                    loss = self.local_actor_critic.calc_loss(done)\n",
    "                    self.optimizer.zero_grad()\n",
    "                    loss.backward()\n",
    "\n",
    "                    for local_param, global_param in zip(\n",
    "                            self.local_actor_critic.parameters(),\n",
    "                            self.global_actor_critic.parameters()):\n",
    "                        global_param._grad = local_param.grad\n",
    "                    self.optimizer.step()\n",
    "                    self.local_actor_critic.load_state_dict(\n",
    "                        self.global_actor_critic.state_dict())\n",
    "                    self.local_actor_critic.clear_memory()\n",
    "\n",
    "                t_step += 1\n",
    "                observation_ = list(observation_)\n",
    "                observation = observation_\n",
    "\n",
    "            with self.episode_idx.get_lock():\n",
    "                self.episode_idx.value += 1\n",
    "                print(self.name, ' episode ', self.episode_idx.value, ' reward %.1f ' % score)\n"
   ],
   "metadata": {
    "collapsed": false,
    "ExecuteTime": {
     "end_time": "2024-07-22T02:22:26.588194Z",
     "start_time": "2024-07-22T02:22:26.581557Z"
    }
   },
   "id": "17ce1f8ea9237900",
   "execution_count": 18
  },
  {
   "cell_type": "code",
   "outputs": [
    {
     "ename": "TypeError",
     "evalue": "empty(): argument 'size' must be tuple of ints, but found element of type list at pos 2",
     "output_type": "error",
     "traceback": [
      "\u001B[0;31m---------------------------------------------------------------------------\u001B[0m",
      "\u001B[0;31mTypeError\u001B[0m                                 Traceback (most recent call last)",
      "Cell \u001B[0;32mIn[17], line 7\u001B[0m\n\u001B[1;32m      5\u001B[0m N_GAMES \u001B[38;5;241m=\u001B[39m \u001B[38;5;241m3000\u001B[39m\n\u001B[1;32m      6\u001B[0m T_MAX \u001B[38;5;241m=\u001B[39m \u001B[38;5;241m5\u001B[39m\n\u001B[0;32m----> 7\u001B[0m global_actor_critic \u001B[38;5;241m=\u001B[39m ACTOR_CRITIC_AGENT(input_dims, n_actions)\n\u001B[1;32m      8\u001B[0m global_actor_critic\u001B[38;5;241m.\u001B[39mshare_memory()\n\u001B[1;32m      9\u001B[0m optim \u001B[38;5;241m=\u001B[39m SharedAdam(global_actor_critic\u001B[38;5;241m.\u001B[39mparameters(), lr\u001B[38;5;241m=\u001B[39mlr,\n\u001B[1;32m     10\u001B[0m                    betas\u001B[38;5;241m=\u001B[39m(\u001B[38;5;241m0.92\u001B[39m, \u001B[38;5;241m0.999\u001B[39m))\n",
      "Cell \u001B[0;32mIn[14], line 6\u001B[0m, in \u001B[0;36mACTOR_CRITIC_AGENT.__init__\u001B[0;34m(self, input_dims, n_actions, gamma)\u001B[0m\n\u001B[1;32m      3\u001B[0m \u001B[38;5;28msuper\u001B[39m(ACTOR_CRITIC_AGENT, \u001B[38;5;28mself\u001B[39m)\u001B[38;5;241m.\u001B[39m\u001B[38;5;21m__init__\u001B[39m()\n\u001B[1;32m      4\u001B[0m \u001B[38;5;28mself\u001B[39m\u001B[38;5;241m.\u001B[39mgamma \u001B[38;5;241m=\u001B[39m gamma\n\u001B[0;32m----> 6\u001B[0m \u001B[38;5;28mself\u001B[39m\u001B[38;5;241m.\u001B[39mactor \u001B[38;5;241m=\u001B[39m A3C_NET(input_dims, n_actions, \u001B[38;5;241m64\u001B[39m, \u001B[38;5;241m128\u001B[39m)\n\u001B[1;32m      7\u001B[0m \u001B[38;5;28mself\u001B[39m\u001B[38;5;241m.\u001B[39mcritic \u001B[38;5;241m=\u001B[39m A3C_NET(input_dims, \u001B[38;5;241m1\u001B[39m, \u001B[38;5;241m64\u001B[39m, \u001B[38;5;241m128\u001B[39m)\n\u001B[1;32m      9\u001B[0m \u001B[38;5;28mself\u001B[39m\u001B[38;5;241m.\u001B[39mrewards \u001B[38;5;241m=\u001B[39m []\n",
      "Cell \u001B[0;32mIn[2], line 4\u001B[0m, in \u001B[0;36mA3C_NET.__init__\u001B[0;34m(self, input_dims, output_dims, fc1, fc2)\u001B[0m\n\u001B[1;32m      2\u001B[0m \u001B[38;5;28;01mdef\u001B[39;00m \u001B[38;5;21m__init__\u001B[39m(\u001B[38;5;28mself\u001B[39m, input_dims, output_dims, fc1, fc2):\n\u001B[1;32m      3\u001B[0m     \u001B[38;5;28msuper\u001B[39m(A3C_NET, \u001B[38;5;28mself\u001B[39m)\u001B[38;5;241m.\u001B[39m\u001B[38;5;21m__init__\u001B[39m()\n\u001B[0;32m----> 4\u001B[0m     \u001B[38;5;28mself\u001B[39m\u001B[38;5;241m.\u001B[39mfc1 \u001B[38;5;241m=\u001B[39m nn\u001B[38;5;241m.\u001B[39mLinear(input_dims, fc1)\n\u001B[1;32m      5\u001B[0m     \u001B[38;5;28mself\u001B[39m\u001B[38;5;241m.\u001B[39mfc2 \u001B[38;5;241m=\u001B[39m nn\u001B[38;5;241m.\u001B[39mLinear(fc1, fc2)\n\u001B[1;32m      6\u001B[0m     \u001B[38;5;28mself\u001B[39m\u001B[38;5;241m.\u001B[39mfc3 \u001B[38;5;241m=\u001B[39m nn\u001B[38;5;241m.\u001B[39mLinear(fc2, output_dims)\n",
      "File \u001B[0;32m~/anaconda3/lib/python3.11/site-packages/torch/nn/modules/linear.py:96\u001B[0m, in \u001B[0;36mLinear.__init__\u001B[0;34m(self, in_features, out_features, bias, device, dtype)\u001B[0m\n\u001B[1;32m     94\u001B[0m \u001B[38;5;28mself\u001B[39m\u001B[38;5;241m.\u001B[39min_features \u001B[38;5;241m=\u001B[39m in_features\n\u001B[1;32m     95\u001B[0m \u001B[38;5;28mself\u001B[39m\u001B[38;5;241m.\u001B[39mout_features \u001B[38;5;241m=\u001B[39m out_features\n\u001B[0;32m---> 96\u001B[0m \u001B[38;5;28mself\u001B[39m\u001B[38;5;241m.\u001B[39mweight \u001B[38;5;241m=\u001B[39m Parameter(torch\u001B[38;5;241m.\u001B[39mempty((out_features, in_features), \u001B[38;5;241m*\u001B[39m\u001B[38;5;241m*\u001B[39mfactory_kwargs))\n\u001B[1;32m     97\u001B[0m \u001B[38;5;28;01mif\u001B[39;00m bias:\n\u001B[1;32m     98\u001B[0m     \u001B[38;5;28mself\u001B[39m\u001B[38;5;241m.\u001B[39mbias \u001B[38;5;241m=\u001B[39m Parameter(torch\u001B[38;5;241m.\u001B[39mempty(out_features, \u001B[38;5;241m*\u001B[39m\u001B[38;5;241m*\u001B[39mfactory_kwargs))\n",
      "\u001B[0;31mTypeError\u001B[0m: empty(): argument 'size' must be tuple of ints, but found element of type list at pos 2"
     ]
    }
   ],
   "source": [
    "lr = 1e-4\n",
    "env_id = 'CartPole-v1'\n",
    "n_actions = 2\n",
    "input_dims = [4]\n",
    "N_GAMES = 3000\n",
    "T_MAX = 5\n",
    "global_actor_critic = ACTOR_CRITIC_AGENT(input_dims, n_actions)\n",
    "global_actor_critic.share_memory()\n",
    "optim = SharedAdam(global_actor_critic.parameters(), lr=lr,\n",
    "                   betas=(0.92, 0.999))\n",
    "global_ep = mp.Value('i', 0)\n",
    "\n",
    "workers = [A3C_AGENT(global_actor_critic,\n",
    "                 optim,\n",
    "                 input_dims,\n",
    "                 n_actions,\n",
    "                 gamma=0.99,\n",
    "                 lr=lr,\n",
    "                 name=i,\n",
    "                 global_ep_idx=global_ep,\n",
    "                 env_id=env_id) for i in range(mp.cpu_count())]\n",
    "[w.start() for w in workers]\n",
    "[w.join() for w in workers]"
   ],
   "metadata": {
    "collapsed": false,
    "ExecuteTime": {
     "end_time": "2024-07-22T02:22:24.168638Z",
     "start_time": "2024-07-22T02:22:24.146985Z"
    }
   },
   "id": "68d39220cd128c6b",
   "execution_count": 17
  }
 ],
 "metadata": {
  "kernelspec": {
   "display_name": "Python 3",
   "language": "python",
   "name": "python3"
  },
  "language_info": {
   "codemirror_mode": {
    "name": "ipython",
    "version": 2
   },
   "file_extension": ".py",
   "mimetype": "text/x-python",
   "name": "python",
   "nbconvert_exporter": "python",
   "pygments_lexer": "ipython2",
   "version": "2.7.6"
  }
 },
 "nbformat": 4,
 "nbformat_minor": 5
}
